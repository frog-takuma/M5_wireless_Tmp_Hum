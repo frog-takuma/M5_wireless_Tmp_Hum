{
 "cells": [
  {
   "cell_type": "code",
   "execution_count": 1,
   "metadata": {},
   "outputs": [
    {
     "name": "stdout",
     "output_type": "stream",
     "text": [
      "Found 5 devices.\n",
      "  8C:85:80:88:5D:DD - Soundcore 3\n",
      "  99:19:5B:00:6B:3A - NOBLE Falcon - R\n",
      "  99:19:5B:00:88:BF - NOBLE Falcon - L\n",
      "  FC:A8:9A:02:4C:1C - Ubeats\n",
      "  D8:A0:1D:55:2D:72 - ESP32test\n"
     ]
    }
   ],
   "source": [
    "#https://github.com/pybluez/pybluez\n",
    "\n",
    "import bluetooth\n",
    "\n",
    "devices = bluetooth.discover_devices(lookup_names=True)\n",
    "print(\"Found {} devices.\".format(len(devices)))\n",
    "\n",
    "for addr, name in devices:\n",
    "    print(\"  {} - {}\".format(addr, name))"
   ]
  },
  {
   "cell_type": "code",
   "execution_count": 23,
   "metadata": {},
   "outputs": [],
   "source": [
    "comport.close()"
   ]
  },
  {
   "cell_type": "code",
   "execution_count": 31,
   "metadata": {},
   "outputs": [
    {
     "name": "stdout",
     "output_type": "stream",
     "text": [
      "Successful\n",
      "\n",
      "Successful\n",
      "\n",
      "Successful\n",
      "\n",
      "Successful\n",
      "\n",
      "Successful\n",
      "\n",
      "Successful\n",
      "\n",
      "Successful\n",
      "\n",
      "Successful\n",
      "\n",
      "Successful\n",
      "\n",
      "Successful\n",
      "\n",
      "Successful\n",
      "\n",
      "Successful\n",
      "\n",
      "Successful\n",
      "\n",
      "Successful\n",
      "\n",
      "Successful\n",
      "\n",
      "Successful\n",
      "\n",
      "Successful\n",
      "\n",
      "Successful\n",
      "\n",
      "Successful\n",
      "\n",
      "Successful\n",
      "\n"
     ]
    }
   ],
   "source": [
    "import serial\n",
    "import time\n",
    "\n",
    "comport = serial.Serial('COM9', baudrate=115200, timeout=0.1)\n",
    "\n",
    "for i in range(20):\n",
    "    new = time.time()\n",
    "    recv_data = comport.read(12)\n",
    "    meas_data = str(recv_data.decode('utf-8'))\n",
    "    print(meas_data)\n",
    "\n",
    "    #print(time.time()-new)\n",
    "comport.close()"
   ]
  },
  {
   "cell_type": "code",
   "execution_count": null,
   "metadata": {},
   "outputs": [],
   "source": []
  }
 ],
 "metadata": {
  "kernelspec": {
   "display_name": "Python 3.7.5 64-bit",
   "language": "python",
   "name": "python3"
  },
  "language_info": {
   "codemirror_mode": {
    "name": "ipython",
    "version": 3
   },
   "file_extension": ".py",
   "mimetype": "text/x-python",
   "name": "python",
   "nbconvert_exporter": "python",
   "pygments_lexer": "ipython3",
   "version": "3.7.5"
  },
  "orig_nbformat": 4,
  "vscode": {
   "interpreter": {
    "hash": "b26c57484f2fda36466914b9c4afd827927cf5425464b6e25238e95832a5592e"
   }
  }
 },
 "nbformat": 4,
 "nbformat_minor": 2
}
